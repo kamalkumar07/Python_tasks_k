{
  "cells": [
    {
      "cell_type": "markdown",
      "metadata": {
        "id": "view-in-github",
        "colab_type": "text"
      },
      "source": [
        "<a href=\"https://colab.research.google.com/github/kamalkumar07/Python_tasks_k/blob/main/Task_3.ipynb\" target=\"_parent\"><img src=\"https://colab.research.google.com/assets/colab-badge.svg\" alt=\"Open In Colab\"/></a>"
      ]
    },
    {
      "cell_type": "code",
      "execution_count": null,
      "metadata": {
        "id": "4Z40bTdtLwaJ"
      },
      "outputs": [],
      "source": [
        "import numpy as np\n"
      ]
    },
    {
      "cell_type": "code",
      "execution_count": null,
      "metadata": {
        "id": "s2dMZYmuL6Nk"
      },
      "outputs": [],
      "source": [
        "def get_matrix(name):\n",
        "    \"\"\"Get matrix input from the user.\"\"\"\n",
        "    rows = int(input(f\"Enter number of rows for {name} matrix: \"))\n",
        "    cols = int(input(f\"Enter number of columns for {name} matrix: \"))\n",
        "    matrix = []\n",
        "    for i in range(rows):\n",
        "        row = []\n",
        "        for j in range(cols):\n",
        "            element = float(input(f\"Enter element at position ({i+1}, {j+1}): \"))\n",
        "            row.append(element)\n",
        "        matrix.append(row)\n",
        "\n",
        "    return np.array(matrix)"
      ]
    },
    {
      "cell_type": "code",
      "execution_count": null,
      "metadata": {
        "colab": {
          "background_save": true,
          "base_uri": "https://localhost:8080/"
        },
        "id": "qpBPfqBDL9ch",
        "outputId": "f6bcba3d-cda2-4749-abcb-811758acef3d"
      },
      "outputs": [
        {
          "output_type": "stream",
          "name": "stdout",
          "text": [
            "\n",
            " Matrix Operations Tool \n",
            "1️⃣ Addition\n",
            "2️⃣ Subtraction\n",
            "3️⃣ Multiplication\n",
            "4️⃣ Transpose\n",
            "5️⃣ Determinant\n",
            "6️⃣ Exit\n"
          ]
        }
      ],
      "source": [
        "def matrix_operations_tool():\n",
        "    print(\"\\n Matrix Operations Tool \")\n",
        "    print(\"1️⃣ Addition\\n2️⃣ Subtraction\\n3️⃣ Multiplication\\n4️⃣ Transpose\\n5️⃣ Determinant\\n6️⃣ Exit\")\n",
        "\n",
        "    while True:\n",
        "        try:\n",
        "            choice = int(input(\"\\nChoose an operation (1-6): \"))\n",
        "\n",
        "            if choice in [1, 2, 3]:  # Operations that require two matrices\n",
        "                A = get_matrix(\"First\")\n",
        "                B = get_matrix(\"Second\")\n",
        "\n",
        "                if choice == 1:\n",
        "                    print(\"\\n🟢 Result (A + B):\\n\", add_matrices(A, B))\n",
        "                elif choice == 2:\n",
        "                    print(\"\\n🟡 Result (A - B):\\n\", subtract_matrices(A, B))\n",
        "                elif choice == 3:\n",
        "                    print(\"\\n🔵 Result (A × B):\\n\", multiply_matrices(A, B))\n",
        "\n",
        "            elif choice in [4, 5]:  # Operations that require one matrix\n",
        "                A = get_matrix(\"Single\")\n",
        "\n",
        "                if choice == 4:\n",
        "                    print(\"\\n🔴 Result (Transpose of A):\\n\", transpose_matrix(A))\n",
        "                elif choice == 5:\n",
        "                    print(\"\\n🟠 Determinant of A:\\n\", determinant_matrix(A))\n",
        "\n",
        "            elif choice == 6:\n",
        "                print(\"🔚 Exiting... Thank you! 😊\")\n",
        "                break\n",
        "\n",
        "            else:\n",
        "                print(\"⚠️ Invalid choice! Please select a number between 1-6.\")\n",
        "\n",
        "        except ValueError:\n",
        "            print(\"⚠️ Error: Please enter a valid number!\")\n",
        "\n",
        "# Run the tool\n",
        "matrix_operations_tool()\n"
      ]
    }
  ],
  "metadata": {
    "colab": {
      "provenance": [],
      "authorship_tag": "ABX9TyOMDJgBC3pbG+nNDeXbZ+qE",
      "include_colab_link": true
    },
    "kernelspec": {
      "display_name": "Python 3",
      "name": "python3"
    },
    "language_info": {
      "name": "python"
    }
  },
  "nbformat": 4,
  "nbformat_minor": 0
}